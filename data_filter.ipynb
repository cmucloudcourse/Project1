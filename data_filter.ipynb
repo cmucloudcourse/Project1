{
 "cells": [
  {
   "cell_type": "markdown",
   "metadata": {
    "tags": [
     "excluded_from_script"
    ]
   },
   "source": [
    "# Test-Driven Data Pre-processing\n",
    "\n",
    "Before you start, make sure that you are familiar with the basic usage of Jupyter Notebook. If not, please finish the Jupyter Notebook primer first.\n",
    "\n",
    "We will demonstrate how to solve complicated problems by splitting a problem into several testable steps with unit tests, together with interactive programming provided by Jupyter Notebook.\n",
    "\n",
    "After you finish the development and pass the tests, you can convert the notebook into an executable Python script `data_filter.py`. You can then invoke the Python script in `runner.sh` to make submissions.\n",
    "\n",
    "`jupyter nbconvert data_filter.ipynb --to python --TagRemovePreprocessor.remove_input_tags='{\"excluded_from_script\"}'`\n",
    "\n",
    "`--TagRemovePreprocessor.remove_cell_tags='{\"excluded_from_script\"}'`: exclude the cells tagged with \"excluded_from_script\" during the conversion. Cells with unit test cases are tagged with `excluded_from_script`. You can select `View - Cell Toolbar - Tags` to view and edit tags.\n",
    "\n",
    "Further reading:\n",
    "\n",
    "https://www.blog.pythonlibrary.org/2016/07/07/python-3-testing-an-intro-to-unittest/\n",
    "\n",
    "http://www.diveintopython3.net/unit-testing.html"
   ]
  },
  {
   "cell_type": "code",
   "execution_count": null,
   "metadata": {},
   "outputs": [],
   "source": [
    "import unittest\n",
    "import sys\n",
    "\n",
    "\"\"\"\n",
    "Implement data filter with test-driven development.\n",
    "A valid line in the pageview files has 4 space-separated fields: \n",
    "domain_code page_title count_views total_response_size \n",
    "\n",
    "Transform and filter the dataset by the following rules:\n",
    "* Exclude lines that don't have four columns\n",
    "* Exclude lines if the domain code is not exactly \"en\" or \"en.m\" (case sensitive) \"en\" indicates the article is an English desktop page, and \"en.m\" is for English mobile page\n",
    "* The title might be percent-encoded by Wikipedia, use the provided `decode(str)` method to decode the title for each record e.g. \"Special%3ASearch\" will be decoded into \"Special:Search\"\n",
    "* Exclude lines if the title starts with any prefix defined in PREFIX_BLACKLIST (case insensitive)\n",
    "* Exclude lines if the title ends with any suffix defined in SUFFIX_BLACKLIST (case insensitive)\n",
    "* Exclude lines if the title starts with any lowercase English character\n",
    "* Exclude lines if the title is exactly any of the special page defined in the provided list SPECIAL_PAGES (case sensitive)\n",
    "\n",
    "We provide you with the starting template, as well as the code of constants, Standard I/O, summing the desktop and mobile site pageviews, and sorting the output.\n",
    "\n",
    "Your task is to implement the methods with \"To be implemented\".\n",
    "\n",
    "Execute the cells with `unittest.main()` to run the unit tests\n",
    "\"\"\"\n",
    "\n",
    "DOMAIN = 0\n",
    "TITLE = 1\n",
    "ACCESS = 2\n",
    "CLEAN_DATA_LENGTH = 4\n",
    "PREFIX_BLACKLIST = [\"media:\",\n",
    "            \"special:\",\n",
    "            \"talk:\",\n",
    "            \"user:\",\n",
    "            \"user_talk:\",\n",
    "            \"wikipedia:\",\n",
    "            \"wikipedia_talk:\",\n",
    "            \"file:\",\n",
    "            \"file_talk:\",\n",
    "            \"mediawiki:\",\n",
    "            \"mediawiki_talk:\",\n",
    "            \"template:\",\n",
    "            \"template_talk:\",\n",
    "            \"help:\",\n",
    "            \"help_talk:\",\n",
    "            \"category:\",\n",
    "            \"category_talk:\",\n",
    "            \"portal:\",\n",
    "            \"portal_talk:\",\n",
    "            \"book:\",\n",
    "            \"book_talk:\",\n",
    "            \"draft:\",\n",
    "            \"draft_talk:\",\n",
    "            \"education_program:\",\n",
    "            \"education_program_talk:\",\n",
    "            \"timedtext:\",\n",
    "            \"timedtext_talk:\",\n",
    "            \"module:\",\n",
    "            \"module_talk:\",\n",
    "            \"gadget:\",\n",
    "            \"gadget_talk:\",\n",
    "            \"gadget_definition:\",\n",
    "            \"gadget_definition_talk:\"]\n",
    "SUFFIX_BLACKLIST = [\".png\", \".gif\",\n",
    "            \".jpg\", \".jpeg\",\n",
    "            \".tiff\", \".tif\",\n",
    "            \".xcf\", \".mid\",\n",
    "            \".ogg\", \".ogv\",\n",
    "            \".svg\", \".djvu\",\n",
    "            \".oga\", \".flac\",\n",
    "            \".opus\", \".wav\",\n",
    "            \".webm\", \".ico\", \".txt\",\n",
    "            \"_(disambiguation)\"]\n",
    "SPECIAL_PAGES = [\"Main_Page\", \"404.php\", \"-\"]\n",
    "\n",
    "\n",
    "'''\n",
    "Decoder for percent encoded strings\n",
    "\n",
    "In contrast to URLDecoder, this decoder keeps percent signs that are not\n",
    "followed by hexadecimal digits, and does not convert plus-signs to spaces.\n",
    "\n",
    "You can put this snippet of code into your filter script.\n",
    "'''\n",
    "\n",
    "def decode(encoded):\n",
    "    def getHexValue(b):\n",
    "        if '0' <= b <= '9':\n",
    "            return chr(ord(b) - 0x30)\n",
    "        elif 'A' <= b <= 'F':\n",
    "            return chr(ord(b) - 0x37)\n",
    "        elif 'a' <= b <= 'f':\n",
    "            return chr(ord(b) - 0x57)\n",
    "        return None\n",
    "\n",
    "    if encoded is None:\n",
    "        return None\n",
    "    encodedChars = encoded\n",
    "    encodedLength = len(encodedChars)\n",
    "    decodedChars = ''\n",
    "    encodedIdx = 0\n",
    "    while encodedIdx < encodedLength:\n",
    "        if encodedChars[encodedIdx] == '%' and encodedIdx + 2 < encodedLength and getHexValue(encodedChars[encodedIdx + 1]) and getHexValue(encodedChars[encodedIdx + 2]):\n",
    "            #  current character is % char\n",
    "            value1 = getHexValue(encodedChars[encodedIdx + 1])\n",
    "            value2 = getHexValue(encodedChars[encodedIdx + 2])\n",
    "            decodedChars += chr((ord(value1) << 4) + ord(value2))\n",
    "            encodedIdx += 2\n",
    "        else:\n",
    "            decodedChars += encodedChars[encodedIdx]\n",
    "        encodedIdx += 1\n",
    "    return str(decodedChars)\n"
   ]
  },
  {
   "cell_type": "markdown",
   "metadata": {
    "tags": [
     "excluded_from_script"
    ]
   },
   "source": [
    "## Divide and Conquer"
   ]
  },
  {
   "cell_type": "code",
   "execution_count": null,
   "metadata": {},
   "outputs": [],
   "source": [
    "def get_columns(str):\n",
    "    \"\"\"\n",
    "    Perform percent-decoding and split the record into columns, separated by single or consecutive whitespaces.\n",
    "    \n",
    "    We pre-implemented this method for you to help you follow and learn how to perform test-driven development.\n",
    "    \n",
    "    :param str: the pageview recor\n",
    "    :return: cols as a str list\n",
    "    \"\"\"\n",
    "    return decode(str).split()"
   ]
  },
  {
   "cell_type": "code",
   "execution_count": null,
   "metadata": {
    "tags": [
     "excluded_from_script"
    ]
   },
   "outputs": [],
   "source": [
    "class TestGetColumns(unittest.TestCase):\n",
    "    \"\"\"\n",
    "    Run this cell to test the method in the previous cell.\n",
    "    This cell is tagged with \"excluded_from_script\", and will be excluded when you convert the notebook to a Python script.\n",
    "    \n",
    "    To pass the test cases, running the cell must return \"OK\" instead of \"FAILED\" in the end.\n",
    "    \"\"\"\n",
    "    def test_equal(self):\n",
    "        self.assertEqual(get_columns(\"en User:K6ka 34 0\"), \n",
    "                          [\"en\", \"User:K6ka\", \"34\", \"0\"])\n",
    "        self.assertEqual(get_columns(\"en User%3AK6ka 34 0\"), \n",
    "                          [\"en\", \"User:K6ka\", \"34\", \"0\"])\n",
    "        self.assertEqual(get_columns(\"en User%3AK6ka 34 0\"), \n",
    "                         get_columns(\"en User%3aK6ka 34 0\"))\n",
    "\n",
    "    def test_not_equal(self):\n",
    "        self.assertNotEqual(get_columns(\"en User%3AK6ka 34 0\"), \n",
    "                          [\"en\", \"User%3AK6ka\", \"34\", \"0\"])\n",
    "        \n",
    "unittest.main(argv=['ignored', '-v', 'TestGetColumns'], exit=False)"
   ]
  },
  {
   "cell_type": "code",
   "execution_count": null,
   "metadata": {},
   "outputs": [],
   "source": [
    "def check_data_length(cols):\n",
    "    \"\"\"\n",
    "    Check if length == 4\n",
    "    \n",
    "    :param cols: record as columns\n",
    "    :return: True if length == 4\n",
    "    \"\"\"\n",
    "    raise NotImplementedError(\"To be implemented\")"
   ]
  },
  {
   "cell_type": "code",
   "execution_count": null,
   "metadata": {
    "tags": [
     "excluded_from_script"
    ]
   },
   "outputs": [],
   "source": [
    "class TestCheckDataLength(unittest.TestCase):\n",
    "    def test_return_true(self):\n",
    "        self.assertTrue(check_data_length(get_columns(\"en Carnegie_Mellon_University 34 0\")))\n",
    "\n",
    "    def test_return_false(self):\n",
    "        self.assertFalse(check_data_length(get_columns(\"en 34 0\")))\n",
    "        self.assertFalse(check_data_length(get_columns(\"en Carnegie_Mellon_University 34 34 0\")))\n",
    "        self.assertFalse(check_data_length(get_columns(\"en Carnegie_Mellon_University%2034 34 0\")))\n",
    "        \n",
    "unittest.main(argv=['ignored', '-v', 'TestCheckDataLength'], exit=False)"
   ]
  },
  {
   "cell_type": "code",
   "execution_count": null,
   "metadata": {},
   "outputs": [],
   "source": [
    "def check_domain(cols):\n",
    "    \"\"\"\n",
    "    Check if the domain code is en or en.m (case sensitive).\n",
    "    \n",
    "    :param cols: record as columns\n",
    "    :return: True if the domain code is en or en.m\n",
    "    \"\"\"\n",
    "    raise NotImplementedError(\"To be implemented\")"
   ]
  },
  {
   "cell_type": "code",
   "execution_count": null,
   "metadata": {
    "tags": [
     "excluded_from_script"
    ]
   },
   "outputs": [],
   "source": [
    "class TestCheckDomain(unittest.TestCase):\n",
    "    def test_return_true(self):\n",
    "        self.assertTrue(check_domain(get_columns(\"en Carnegie_Mellon_University 34 0\")))\n",
    "        self.assertTrue(check_domain(get_columns(\"en.m Carnegie_Mellon_University 34 0\")))\n",
    "\n",
    "    def test_return_false(self):\n",
    "        self.assertFalse(check_domain(get_columns(\"fr Carnegie_Mellon_University 34 0\")))\n",
    "        self.assertFalse(check_domain(get_columns(\"EN.M Carnegie_Mellon_University 34 0\")))\n",
    "        \n",
    "unittest.main(argv=['ignored', '-v', 'TestCheckDomain'], exit=False)"
   ]
  },
  {
   "cell_type": "code",
   "execution_count": null,
   "metadata": {},
   "outputs": [],
   "source": [
    "def check_special_page(cols):\n",
    "    \"\"\"\n",
    "    Check if it is a special page, case sensitive.\n",
    "    \n",
    "    :param cols: record as columns\n",
    "    :return: False if it is a special page\n",
    "    \"\"\"\n",
    "    raise NotImplementedError(\"To be implemented\")"
   ]
  },
  {
   "cell_type": "code",
   "execution_count": null,
   "metadata": {
    "tags": [
     "excluded_from_script"
    ]
   },
   "outputs": [],
   "source": [
    "class TestSpecialPage(unittest.TestCase):\n",
    "    def test_return_true(self):\n",
    "        self.assertTrue(check_special_page(get_columns(\"en Carnegie_Mellon_University 34 0\")))\n",
    "\n",
    "    def test_return_false(self):\n",
    "        self.assertFalse(check_special_page(get_columns(\"en Main_Page 34 0\")))\n",
    "        self.assertFalse(check_special_page(get_columns(\"en - 34 0\")))\n",
    "        self.assertFalse(check_special_page(get_columns(\"en %2D 34 0\")))\n",
    "        \n",
    "unittest.main(argv=['ignored', '-v', 'TestSpecialPage'], exit=False)"
   ]
  },
  {
   "cell_type": "code",
   "execution_count": null,
   "metadata": {},
   "outputs": [],
   "source": [
    "def check_prefix(cols):\n",
    "    \"\"\"\n",
    "    Check if the title starts with any blacklisted prefix, case insensitive.\n",
    "    \n",
    "    Any occurrences of `%3a` should have been decoded into `:`\n",
    "    \n",
    "    :param cols: record as columns\n",
    "    :return: False if the title starts with any blacklisted prefix\n",
    "    \"\"\"\n",
    "    raise NotImplementedError(\"To be implemented\")"
   ]
  },
  {
   "cell_type": "code",
   "execution_count": null,
   "metadata": {
    "tags": [
     "excluded_from_script"
    ]
   },
   "outputs": [],
   "source": [
    "class TestCheckPrefix(unittest.TestCase):\n",
    "    def test_return_true(self):\n",
    "        self.assertTrue(check_prefix(get_columns(\"en Carnegie_Mellon_University 34 0\")))\n",
    "\n",
    "    def test_return_false(self):\n",
    "        self.assertFalse(check_prefix(get_columns(\"en User:K6ka 34 0\")))\n",
    "        self.assertFalse(check_prefix(get_columns(\"en User%3AK6ka 34 0\")))\n",
    "        self.assertFalse(check_prefix(get_columns(\"en User%3aK6ka 34 0\")))\n",
    "        \n",
    "unittest.main(argv=['ignored', '-v', 'TestCheckPrefix'], exit=False)"
   ]
  },
  {
   "cell_type": "code",
   "execution_count": null,
   "metadata": {},
   "outputs": [],
   "source": [
    "def check_suffix(cols):\n",
    "    \"\"\"\n",
    "    Check if the title ends with any blacklisted suffix, case insensitive. \n",
    "    \n",
    "    Any occurrences of `%3a` should have been decoded into `:`\n",
    "    \n",
    "    :param cols: record as columns\n",
    "    :return: False if the title ends with any blacklisted suffix\n",
    "    \"\"\"\n",
    "    raise NotImplementedError(\"To be implemented\")"
   ]
  },
  {
   "cell_type": "code",
   "execution_count": null,
   "metadata": {
    "tags": [
     "excluded_from_script"
    ]
   },
   "outputs": [],
   "source": [
    "class TestCheckSuffix(unittest.TestCase):\n",
    "    def test_return_true(self):\n",
    "        raise NotImplementedError(\"To be implemented\")\n",
    "\n",
    "    def test_return_false(self):\n",
    "        raise NotImplementedError(\"To be implemented\")\n",
    "        \n",
    "unittest.main(argv=['ignored', '-v', 'TestCheckSuffix'], exit=False)"
   ]
  },
  {
   "cell_type": "code",
   "execution_count": null,
   "metadata": {},
   "outputs": [],
   "source": [
    "def check_first_letter(cols):\n",
    "    \"\"\"\n",
    "    Check if the first letter is English lowercase letter. \n",
    "    \n",
    "    Many other Unicode characters are lowercase too. Only [a-z] should count. \n",
    "   \n",
    "    Hint: Be careful and read the doc if you want to use str.islower()\n",
    "    \n",
    "    :param cols: record as columns\n",
    "    :return: False if the title starts with [a-z]\n",
    "    \"\"\"\n",
    "    raise NotImplementedError(\"To be implemented\")"
   ]
  },
  {
   "cell_type": "code",
   "execution_count": null,
   "metadata": {
    "tags": [
     "excluded_from_script"
    ]
   },
   "outputs": [],
   "source": [
    "class TestFirstLetter(unittest.TestCase):\n",
    "    def test_return_true(self):\n",
    "        raise NotImplementedError(\"To be implemented\")\n",
    "\n",
    "    def test_return_false(self):\n",
    "        raise NotImplementedError(\"To be implemented\")\n",
    "        \n",
    "unittest.main(argv=['ignored', '-v', 'TestFirstLetter'], exit=False)"
   ]
  },
  {
   "cell_type": "markdown",
   "metadata": {
    "tags": [
     "excluded_from_script"
    ]
   },
   "source": [
    "## Put them together"
   ]
  },
  {
   "cell_type": "code",
   "execution_count": null,
   "metadata": {},
   "outputs": [],
   "source": [
    "def check_all_rules(cols):\n",
    "    \"\"\"\n",
    "    Check if the record passes all the rules.\n",
    "    \n",
    "    You do not need to modify this method. \n",
    "    Instead, you should divide and conquer the complicated filtering task by implementing the methods above:\n",
    "    \n",
    "    :param cols: record as columns\n",
    "    :return: True if the record passes all the rules\n",
    "    \"\"\"\n",
    "    return check_data_length(cols) and check_domain(cols) and check_special_page(cols) \\\n",
    "        and check_prefix(cols) and check_suffix(cols) and check_first_letter(cols)"
   ]
  },
  {
   "cell_type": "code",
   "execution_count": null,
   "metadata": {
    "tags": [
     "excluded_from_script"
    ]
   },
   "outputs": [],
   "source": [
    "class TestAllRules(unittest.TestCase):\n",
    "    def test_return_true(self):\n",
    "        raise NotImplementedError(\"To be implemented\")\n",
    "\n",
    "    def test_return_false(self):\n",
    "        raise NotImplementedError(\"To be implemented\")\n",
    "        \n",
    "unittest.main(argv=['ignored', '-v', 'TestAllRules'], exit=False)"
   ]
  },
  {
   "cell_type": "markdown",
   "metadata": {
    "tags": [
     "excluded_from_script"
    ]
   },
   "source": [
    "## Filter the hourly dataset"
   ]
  },
  {
   "cell_type": "code",
   "execution_count": null,
   "metadata": {},
   "outputs": [],
   "source": [
    "def main():\n",
    "    \"\"\"\n",
    "    Data pre-processing\n",
    "\n",
    "    The main method reads from System.in and writes to `output`. \n",
    "    \n",
    "    I/O must be encoding-aware instead of relying on the system default encoding. \n",
    "    The code below are encoding-naive.\n",
    "    To make the program encoding-aware, you should explictly set the encoding when running the Python program.\n",
    "    Explore the usage of PYTHONIOENCODING, e.g. `PYTHONIOENCODING=<charset> python3 data_filter.py`.\n",
    "    \"\"\"\n",
    "    records = {}\n",
    "    for line in sys.stdin:\n",
    "        columns = get_columns(line)\n",
    "        if check_all_rules(columns):\n",
    "            # If there are records from both desktop and mobile sites for the same page title,\n",
    "            # sum the accesses into one record.\n",
    "            if columns[TITLE] in records:\n",
    "                records[columns[TITLE]] += int(columns[ACCESS])\n",
    "            else:\n",
    "                records[columns[TITLE]] = int(columns[ACCESS])\n",
    "    # Sort the map in descending numerical order of the values, \n",
    "    # break ties by ascending lexicographical order of keys\n",
    "    sorted_records = sorted(records.items(), key=lambda r: (-r[1], r[0]))\n",
    "    with open('output', 'wt') as f:\n",
    "        for (key, value) in sorted_records:\n",
    "            f.write(key + '\\t' + str(value) + '\\n')\n",
    "\n",
    "if __name__ == \"__main__\":\n",
    "    main()"
   ]
  },
  {
   "cell_type": "markdown",
   "metadata": {
    "tags": [
     "excluded_from_script"
    ]
   },
   "source": [
    "## Submit\n",
    "\n",
    "Now you can convert the notebook into an executable Python script data_filter.py. You can then invoke the Python script in runner.sh to make submissions.\n",
    "\n",
    "`jupyter nbconvert data_filter.ipynb --to python --TagRemovePreprocessor.remove_input_tags='{\"excluded_from_script\"}'`"
   ]
  }
 ],
 "metadata": {
  "celltoolbar": "Tags",
  "kernelspec": {
   "display_name": "Python 3",
   "language": "python",
   "name": "python3"
  },
  "language_info": {
   "codemirror_mode": {
    "name": "ipython",
    "version": 3
   },
   "file_extension": ".py",
   "mimetype": "text/x-python",
   "name": "python",
   "nbconvert_exporter": "python",
   "pygments_lexer": "ipython3",
   "version": "3.6.5"
  },
  "toc": {
   "base_numbering": 1,
   "nav_menu": {},
   "number_sections": true,
   "sideBar": true,
   "skip_h1_title": false,
   "title_cell": "Table of Contents",
   "title_sidebar": "Contents",
   "toc_cell": false,
   "toc_position": {},
   "toc_section_display": true,
   "toc_window_display": false
  }
 },
 "nbformat": 4,
 "nbformat_minor": 2
}
